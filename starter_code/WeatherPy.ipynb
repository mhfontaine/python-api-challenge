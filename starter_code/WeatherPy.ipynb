{
 "cells": [
  {
   "cell_type": "markdown",
   "metadata": {},
   "source": [
    "# WeatherPy\n",
    "----\n",
    "\n",
    "#### Note\n",
    "* Instructions have been included for each segment. You do not have to follow them exactly, but they are included to help you think through the steps."
   ]
  },
  {
   "cell_type": "code",
   "execution_count": 24,
   "metadata": {
    "scrolled": true
   },
   "outputs": [],
   "source": [
    "# Dependencies and Setup\n",
    "import matplotlib.pyplot as plt\n",
    "import pandas as pd\n",
    "import numpy as np\n",
    "import requests\n",
    "import time\n",
    "from scipy.stats import linregress\n",
    "\n",
    "# Import API key\n",
    "from api_keys import weather_api_key\n",
    "\n",
    "# Incorporated citipy to determine city based on latitude and longitude\n",
    "from citipy import citipy\n",
    "\n",
    "# Output File (CSV)\n",
    "output_data_file = \"output_data/cities.csv\"\n",
    "\n",
    "# Range of latitudes and longitudes\n",
    "lat_range = (-90, 90)\n",
    "lng_range = (-180, 180)"
   ]
  },
  {
   "cell_type": "markdown",
   "metadata": {},
   "source": [
    "## Generate Cities List"
   ]
  },
  {
   "cell_type": "code",
   "execution_count": 25,
   "metadata": {},
   "outputs": [
    {
     "data": {
      "text/plain": [
       "615"
      ]
     },
     "execution_count": 25,
     "metadata": {},
     "output_type": "execute_result"
    }
   ],
   "source": [
    "# List for holding lat_lngs and cities\n",
    "lat_lngs = []\n",
    "cities = []\n",
    "\n",
    "# Create a set of random lat and lng combinations\n",
    "lats = np.random.uniform(lat_range[0], lat_range[1], size=1500)\n",
    "lngs = np.random.uniform(lng_range[0], lng_range[1], size=1500)\n",
    "lat_lngs = zip(lats, lngs)\n",
    "\n",
    "# Identify nearest city for each lat, lng combination\n",
    "for lat_lng in lat_lngs:\n",
    "    city = citipy.nearest_city(lat_lng[0], lat_lng[1]).city_name\n",
    "    \n",
    "    # If the city is unique, then add it to a our cities list\n",
    "    if city not in cities:\n",
    "        cities.append(city)\n",
    "\n",
    "# Print the city count to confirm sufficient count\n",
    "len(cities)"
   ]
  },
  {
   "cell_type": "markdown",
   "metadata": {},
   "source": [
    "### Perform API Calls\n",
    "* Perform a weather check on each city using a series of successive API calls.\n",
    "* Include a print log of each city as it'sbeing processed (with the city number and city name).\n"
   ]
  },
  {
   "cell_type": "code",
   "execution_count": 19,
   "metadata": {
    "scrolled": true
   },
   "outputs": [],
   "source": [
    "# OpenWeatherMap API Key\n",
    "api_key = \"7561ade3ac3c0aa0567cd68fd77fa751\"\n",
    "\n",
    "# Starting URS for Weather Map API Call\n",
    "url = \"http://api.openweathermap.org/data/2.5/weather?units=Imperial&APPID=\" + api_key"
   ]
  },
  {
   "cell_type": "code",
   "execution_count": 20,
   "metadata": {},
   "outputs": [],
   "source": [
    "# List of city data\n",
    "city_data = []"
   ]
  },
  {
   "cell_type": "code",
   "execution_count": 26,
   "metadata": {},
   "outputs": [
    {
     "name": "stdout",
     "output_type": "stream",
     "text": [
      "Beginning Data Retrieval     \n",
      "-----------------------------\n",
      "Processing Record 1 of Set 1 | busselton\n",
      "Processing Record 2 of Set 1 | neuquen\n",
      "Processing Record 3 of Set 1 | katsuura\n",
      "Processing Record 4 of Set 1 | mzimba\n",
      "Processing Record 5 of Set 1 | albany\n",
      "Processing Record 6 of Set 1 | svetlogorsk\n",
      "Processing Record 7 of Set 1 | jamestown\n",
      "Processing Record 8 of Set 1 | xique-xique\n",
      "Processing Record 9 of Set 1 | ribeira grande\n",
      "Processing Record 10 of Set 1 | norman wells\n",
      "Processing Record 11 of Set 1 | rikitea\n",
      "Processing Record 12 of Set 1 | new norfolk\n",
      "Processing Record 13 of Set 1 | vanimo\n",
      "Processing Record 14 of Set 1 | suntar\n",
      "Processing Record 15 of Set 1 | ushuaia\n",
      "Processing Record 16 of Set 1 | sao francisco de paula\n",
      "Processing Record 17 of Set 1 | vaini\n",
      "Processing Record 18 of Set 1 | sitges\n",
      "Processing Record 19 of Set 1 | puerto ayora\n",
      "Processing Record 20 of Set 1 | brae\n",
      "Processing Record 21 of Set 1 | lagoa\n",
      "Processing Record 22 of Set 1 | east london\n",
      "Processing Record 23 of Set 1 | hermanus\n",
      "Processing Record 24 of Set 1 | sakakah\n",
      "Processing Record 25 of Set 1 | atuona\n",
      "Processing Record 26 of Set 1 | mataura\n",
      "Processing Record 27 of Set 1 | lebu\n",
      "Processing Record 28 of Set 1 | san ramon\n",
      "Processing Record 29 of Set 1 | necochea\n",
      "Processing Record 30 of Set 1 | kawana waters\n",
      "City not found. Skipping...\n",
      "Processing Record 31 of Set 1 | saint-augustin\n",
      "Processing Record 32 of Set 1 | kainantu\n",
      "Processing Record 33 of Set 1 | kayerkan\n",
      "Processing Record 34 of Set 1 | padang\n",
      "Processing Record 35 of Set 1 | camacha\n",
      "Processing Record 36 of Set 1 | qaanaaq\n",
      "Processing Record 37 of Set 1 | sentyabrskiy\n",
      "City not found. Skipping...\n",
      "Processing Record 38 of Set 1 | pahrump\n",
      "Processing Record 39 of Set 1 | oksfjord\n",
      "Processing Record 40 of Set 1 | kapaa\n",
      "Processing Record 41 of Set 1 | solovetskiy\n",
      "City not found. Skipping...\n",
      "Processing Record 42 of Set 1 | naze\n",
      "Processing Record 43 of Set 1 | faanui\n",
      "Processing Record 44 of Set 1 | ulaangom\n",
      "Processing Record 45 of Set 1 | pevek\n",
      "Processing Record 46 of Set 1 | yulara\n",
      "Processing Record 47 of Set 1 | dikson\n",
      "Processing Record 48 of Set 1 | zhigansk\n",
      "Processing Record 49 of Set 1 | yellowknife\n",
      "Processing Record 50 of Set 1 | mrirt\n",
      "City not found. Skipping...\n",
      "Processing Record 0 of Set 2 | moree\n",
      "Processing Record 1 of Set 2 | arman\n",
      "Processing Record 2 of Set 2 | hilo\n",
      "Processing Record 3 of Set 2 | waitati\n",
      "Processing Record 4 of Set 2 | vinh long\n",
      "Processing Record 5 of Set 2 | barrow\n",
      "Processing Record 6 of Set 2 | hithadhoo\n",
      "Processing Record 7 of Set 2 | waingapu\n",
      "Processing Record 8 of Set 2 | port elizabeth\n",
      "Processing Record 9 of Set 2 | hobart\n",
      "Processing Record 10 of Set 2 | chokurdakh\n",
      "Processing Record 11 of Set 2 | doha\n",
      "Processing Record 12 of Set 2 | bathsheba\n",
      "Processing Record 13 of Set 2 | alice springs\n",
      "Processing Record 14 of Set 2 | punta arenas\n",
      "Processing Record 15 of Set 2 | cape town\n",
      "Processing Record 16 of Set 2 | iberia\n",
      "Processing Record 17 of Set 2 | nome\n",
      "Processing Record 18 of Set 2 | iqaluit\n",
      "Processing Record 19 of Set 2 | cherskiy\n",
      "Processing Record 20 of Set 2 | fairbanks\n",
      "Processing Record 21 of Set 2 | mar del plata\n",
      "Processing Record 22 of Set 2 | lorengau\n",
      "Processing Record 23 of Set 2 | tiksi\n",
      "Processing Record 24 of Set 2 | bengkulu\n",
      "Processing Record 25 of Set 2 | sorvag\n",
      "City not found. Skipping...\n",
      "Processing Record 26 of Set 2 | grand river south east\n",
      "City not found. Skipping...\n",
      "Processing Record 27 of Set 2 | luderitz\n",
      "Processing Record 28 of Set 2 | goderich\n",
      "Processing Record 29 of Set 2 | tuktoyaktuk\n",
      "Processing Record 30 of Set 2 | borogontsy\n",
      "Processing Record 31 of Set 2 | port keats\n",
      "Processing Record 32 of Set 2 | weihe\n",
      "Processing Record 33 of Set 2 | cidreira\n",
      "Processing Record 34 of Set 2 | viligili\n",
      "City not found. Skipping...\n",
      "Processing Record 35 of Set 2 | thompson\n",
      "Processing Record 36 of Set 2 | avera\n",
      "Processing Record 37 of Set 2 | tlahualilo\n",
      "City not found. Skipping...\n",
      "Processing Record 38 of Set 2 | bredasdorp\n",
      "Processing Record 39 of Set 2 | pauri\n",
      "Processing Record 40 of Set 2 | shingu\n",
      "Processing Record 41 of Set 2 | dogondoutchi\n",
      "Processing Record 42 of Set 2 | naryan-mar\n",
      "Processing Record 43 of Set 2 | vao\n",
      "Processing Record 44 of Set 2 | dondo\n",
      "Processing Record 45 of Set 2 | dunedin\n",
      "Processing Record 46 of Set 2 | taolanaro\n",
      "City not found. Skipping...\n",
      "Processing Record 47 of Set 2 | belushya guba\n",
      "City not found. Skipping...\n",
      "Processing Record 48 of Set 2 | port alfred\n",
      "Processing Record 49 of Set 2 | saldanha\n",
      "Processing Record 0 of Set 3 | kholodnyy\n",
      "Processing Record 1 of Set 3 | wanning\n",
      "Processing Record 2 of Set 3 | viedma\n",
      "Processing Record 3 of Set 3 | stoyba\n",
      "City not found. Skipping...\n",
      "Processing Record 4 of Set 3 | sulangan\n",
      "Processing Record 5 of Set 3 | hit\n",
      "Processing Record 6 of Set 3 | kristianstad\n",
      "Processing Record 7 of Set 3 | talara\n",
      "Processing Record 8 of Set 3 | havelock\n",
      "Processing Record 9 of Set 3 | illoqqortoormiut\n",
      "City not found. Skipping...\n",
      "Processing Record 10 of Set 3 | abashiri\n",
      "Processing Record 11 of Set 3 | kruisfontein\n",
      "Processing Record 12 of Set 3 | torbay\n",
      "Processing Record 13 of Set 3 | zyryanskoye\n",
      "Processing Record 14 of Set 3 | alekseyevsk\n",
      "Processing Record 15 of Set 3 | kaitangata\n",
      "Processing Record 16 of Set 3 | tura\n",
      "Processing Record 17 of Set 3 | camaguey\n",
      "Processing Record 18 of Set 3 | eureka\n",
      "Processing Record 19 of Set 3 | halalo\n",
      "City not found. Skipping...\n",
      "Processing Record 20 of Set 3 | pandan niog\n",
      "Processing Record 21 of Set 3 | cayenne\n",
      "Processing Record 22 of Set 3 | butaritari\n",
      "Processing Record 23 of Set 3 | namibe\n",
      "Processing Record 24 of Set 3 | nizhneudinsk\n",
      "Processing Record 25 of Set 3 | vaitupu\n",
      "City not found. Skipping...\n",
      "Processing Record 26 of Set 3 | avarua\n",
      "Processing Record 27 of Set 3 | tasiilaq\n",
      "Processing Record 28 of Set 3 | shenzhen\n",
      "Processing Record 29 of Set 3 | homer\n",
      "Processing Record 30 of Set 3 | attawapiskat\n",
      "City not found. Skipping...\n",
      "Processing Record 31 of Set 3 | japura\n",
      "Processing Record 32 of Set 3 | longyearbyen\n",
      "Processing Record 33 of Set 3 | cochrane\n",
      "Processing Record 34 of Set 3 | carnarvon\n",
      "Processing Record 35 of Set 3 | mana\n",
      "Processing Record 36 of Set 3 | mahebourg\n",
      "Processing Record 37 of Set 3 | touros\n",
      "Processing Record 38 of Set 3 | baruun-urt\n",
      "Processing Record 39 of Set 3 | raudeberg\n",
      "Processing Record 40 of Set 3 | maku\n",
      "Processing Record 41 of Set 3 | castro\n",
      "Processing Record 42 of Set 3 | hirara\n",
      "Processing Record 43 of Set 3 | esperance\n",
      "Processing Record 44 of Set 3 | beloha\n",
      "Processing Record 45 of Set 3 | tarrega\n",
      "Processing Record 46 of Set 3 | ponta do sol\n",
      "Processing Record 47 of Set 3 | phan thiet\n",
      "Processing Record 48 of Set 3 | taoudenni\n",
      "Processing Record 49 of Set 3 | tabou\n",
      "Processing Record 0 of Set 4 | faridabad\n",
      "Processing Record 1 of Set 4 | harbour breton\n",
      "Processing Record 2 of Set 4 | bluff\n",
      "Processing Record 3 of Set 4 | huarmey\n",
      "Processing Record 4 of Set 4 | hofn\n",
      "Processing Record 5 of Set 4 | beyneu\n",
      "Processing Record 6 of Set 4 | west wendover\n",
      "Processing Record 7 of Set 4 | gizo\n",
      "Processing Record 8 of Set 4 | arraial do cabo\n",
      "Processing Record 9 of Set 4 | marsh harbour\n",
      "Processing Record 10 of Set 4 | saskylakh\n",
      "Processing Record 11 of Set 4 | kimi\n",
      "City not found. Skipping...\n",
      "Processing Record 12 of Set 4 | grindavik\n",
      "Processing Record 13 of Set 4 | paradwip\n",
      "City not found. Skipping...\n",
      "Processing Record 14 of Set 4 | saint-philippe\n",
      "Processing Record 15 of Set 4 | kodiak\n",
      "Processing Record 16 of Set 4 | barentsburg\n",
      "City not found. Skipping...\n",
      "Processing Record 17 of Set 4 | pyshma\n",
      "Processing Record 18 of Set 4 | grosseto\n",
      "Processing Record 19 of Set 4 | samusu\n",
      "City not found. Skipping...\n",
      "Processing Record 20 of Set 4 | charleston\n",
      "Processing Record 21 of Set 4 | la ronge\n",
      "Processing Record 22 of Set 4 | victoria\n",
      "Processing Record 23 of Set 4 | pocao de pedras\n",
      "Processing Record 24 of Set 4 | fortuna\n",
      "Processing Record 25 of Set 4 | emba\n",
      "Processing Record 26 of Set 4 | show low\n",
      "Processing Record 27 of Set 4 | pouembout\n",
      "Processing Record 28 of Set 4 | santa rosa\n",
      "Processing Record 29 of Set 4 | sorland\n",
      "Processing Record 30 of Set 4 | pedernales\n",
      "Processing Record 31 of Set 4 | takoradi\n",
      "Processing Record 32 of Set 4 | jinchang\n",
      "Processing Record 33 of Set 4 | elizabeth city\n",
      "Processing Record 34 of Set 4 | sinnamary\n",
      "Processing Record 35 of Set 4 | macklin\n",
      "Processing Record 36 of Set 4 | vestmannaeyjar\n"
     ]
    },
    {
     "name": "stdout",
     "output_type": "stream",
     "text": [
      "Processing Record 37 of Set 4 | dolores\n",
      "Processing Record 38 of Set 4 | sao filipe\n",
      "Processing Record 39 of Set 4 | mosetse\n",
      "Processing Record 40 of Set 4 | san cristobal\n",
      "Processing Record 41 of Set 4 | chuy\n",
      "Processing Record 42 of Set 4 | harper\n",
      "Processing Record 43 of Set 4 | esil\n",
      "Processing Record 44 of Set 4 | seoul\n",
      "Processing Record 45 of Set 4 | bethel\n",
      "Processing Record 46 of Set 4 | sitka\n",
      "Processing Record 47 of Set 4 | angangxi\n",
      "City not found. Skipping...\n",
      "Processing Record 48 of Set 4 | luyang\n",
      "Processing Record 49 of Set 4 | mys shmidta\n",
      "City not found. Skipping...\n",
      "Processing Record 0 of Set 5 | mwinilunga\n",
      "Processing Record 1 of Set 5 | khatanga\n",
      "Processing Record 2 of Set 5 | pudozh\n",
      "Processing Record 3 of Set 5 | cabo san lucas\n",
      "Processing Record 4 of Set 5 | hay river\n",
      "Processing Record 5 of Set 5 | korla\n",
      "Processing Record 6 of Set 5 | dingle\n",
      "Processing Record 7 of Set 5 | nyagan\n",
      "Processing Record 8 of Set 5 | port hardy\n",
      "Processing Record 9 of Set 5 | hare bay\n",
      "Processing Record 10 of Set 5 | panalingaan\n",
      "Processing Record 11 of Set 5 | vaitape\n",
      "Processing Record 12 of Set 5 | waddan\n",
      "Processing Record 13 of Set 5 | portland\n",
      "Processing Record 14 of Set 5 | nelson bay\n",
      "Processing Record 15 of Set 5 | sainte-maxime\n",
      "Processing Record 16 of Set 5 | isangel\n",
      "Processing Record 17 of Set 5 | nikolskoye\n",
      "Processing Record 18 of Set 5 | kuppam\n",
      "Processing Record 19 of Set 5 | vila\n",
      "Processing Record 20 of Set 5 | georgetown\n",
      "Processing Record 21 of Set 5 | villazon\n",
      "Processing Record 22 of Set 5 | linqiong\n",
      "Processing Record 23 of Set 5 | sembe\n",
      "Processing Record 24 of Set 5 | kamenka\n",
      "Processing Record 25 of Set 5 | kuytun\n",
      "Processing Record 26 of Set 5 | partyzany\n",
      "Processing Record 27 of Set 5 | the valley\n",
      "Processing Record 28 of Set 5 | kongoussi\n",
      "Processing Record 29 of Set 5 | aklavik\n",
      "Processing Record 30 of Set 5 | williams lake\n",
      "Processing Record 31 of Set 5 | te anau\n",
      "Processing Record 32 of Set 5 | berezovyy\n",
      "Processing Record 33 of Set 5 | yongan\n",
      "Processing Record 34 of Set 5 | bangkalan\n",
      "Processing Record 35 of Set 5 | maxixe\n",
      "Processing Record 36 of Set 5 | louisbourg\n",
      "City not found. Skipping...\n",
      "Processing Record 37 of Set 5 | moose factory\n",
      "Processing Record 38 of Set 5 | saleaula\n",
      "City not found. Skipping...\n",
      "Processing Record 39 of Set 5 | bilma\n",
      "Processing Record 40 of Set 5 | flinders\n",
      "Processing Record 41 of Set 5 | nizhnevartovsk\n",
      "Processing Record 42 of Set 5 | acapulco\n",
      "Processing Record 43 of Set 5 | college\n",
      "Processing Record 44 of Set 5 | khash\n",
      "Processing Record 45 of Set 5 | chabahar\n",
      "Processing Record 46 of Set 5 | sao felix do xingu\n",
      "Processing Record 47 of Set 5 | thinadhoo\n",
      "Processing Record 48 of Set 5 | lompoc\n",
      "Processing Record 49 of Set 5 | mayor pablo lagerenza\n",
      "Processing Record 0 of Set 6 | port blair\n",
      "Processing Record 1 of Set 6 | kutum\n",
      "Processing Record 2 of Set 6 | baykit\n",
      "Processing Record 3 of Set 6 | barawe\n",
      "City not found. Skipping...\n",
      "Processing Record 4 of Set 6 | langham\n",
      "Processing Record 5 of Set 6 | kavieng\n",
      "Processing Record 6 of Set 6 | valdivia\n",
      "Processing Record 7 of Set 6 | richards bay\n",
      "Processing Record 8 of Set 6 | ketchikan\n",
      "Processing Record 9 of Set 6 | manzhouli\n",
      "Processing Record 10 of Set 6 | portsmouth\n",
      "Processing Record 11 of Set 6 | egvekinot\n",
      "Processing Record 12 of Set 6 | ipixuna\n",
      "Processing Record 13 of Set 6 | asfi\n",
      "Processing Record 14 of Set 6 | okhotsk\n",
      "Processing Record 15 of Set 6 | merauke\n",
      "Processing Record 16 of Set 6 | roma\n",
      "Processing Record 17 of Set 6 | talnakh\n",
      "Processing Record 18 of Set 6 | constitucion\n",
      "Processing Record 19 of Set 6 | sohag\n",
      "Processing Record 20 of Set 6 | cockburn town\n",
      "Processing Record 21 of Set 6 | chavakkad\n",
      "Processing Record 22 of Set 6 | payo\n",
      "Processing Record 23 of Set 6 | pangnirtung\n",
      "Processing Record 24 of Set 6 | rosetta\n",
      "Processing Record 25 of Set 6 | nizhneyansk\n",
      "City not found. Skipping...\n",
      "Processing Record 26 of Set 6 | sovetskiy\n",
      "Processing Record 27 of Set 6 | kapit\n",
      "Processing Record 28 of Set 6 | luanda\n",
      "Processing Record 29 of Set 6 | khorinsk\n",
      "Processing Record 30 of Set 6 | gorontalo\n",
      "Processing Record 31 of Set 6 | alta floresta\n",
      "Processing Record 32 of Set 6 | yicheng\n",
      "Processing Record 33 of Set 6 | superior\n",
      "Processing Record 34 of Set 6 | upernavik\n",
      "Processing Record 35 of Set 6 | ancud\n",
      "Processing Record 36 of Set 6 | saint-joseph\n",
      "Processing Record 37 of Set 6 | araouane\n",
      "Processing Record 38 of Set 6 | warmbad\n",
      "Processing Record 39 of Set 6 | ugoofaaru\n",
      "Processing Record 40 of Set 6 | bara\n",
      "Processing Record 41 of Set 6 | komsomolets\n",
      "Processing Record 42 of Set 6 | bur gabo\n",
      "City not found. Skipping...\n",
      "Processing Record 43 of Set 6 | faranah\n",
      "Processing Record 44 of Set 6 | praia da vitoria\n",
      "Processing Record 45 of Set 6 | gillette\n",
      "Processing Record 46 of Set 6 | guerrero negro\n",
      "Processing Record 47 of Set 6 | kuche\n",
      "City not found. Skipping...\n",
      "Processing Record 48 of Set 6 | saurimo\n",
      "Processing Record 49 of Set 6 | chicama\n",
      "Processing Record 0 of Set 7 | nishihara\n",
      "Processing Record 1 of Set 7 | yar-sale\n",
      "Processing Record 2 of Set 7 | leningradskiy\n",
      "Processing Record 3 of Set 7 | ust-tsilma\n",
      "Processing Record 4 of Set 7 | port-gentil\n",
      "Processing Record 5 of Set 7 | saint pete beach\n",
      "Processing Record 6 of Set 7 | codrington\n",
      "Processing Record 7 of Set 7 | tarko-sale\n",
      "Processing Record 8 of Set 7 | zemio\n",
      "Processing Record 9 of Set 7 | roald\n",
      "Processing Record 10 of Set 7 | wonthaggi\n",
      "Processing Record 11 of Set 7 | flin flon\n",
      "Processing Record 12 of Set 7 | riyadh\n",
      "Processing Record 13 of Set 7 | henties bay\n",
      "Processing Record 14 of Set 7 | ust-koksa\n",
      "Processing Record 15 of Set 7 | kaeo\n",
      "Processing Record 16 of Set 7 | luwuk\n",
      "Processing Record 17 of Set 7 | mehamn\n",
      "Processing Record 18 of Set 7 | coihaique\n",
      "Processing Record 19 of Set 7 | malakal\n",
      "Processing Record 20 of Set 7 | bermeo\n",
      "Processing Record 21 of Set 7 | mungeli\n",
      "Processing Record 22 of Set 7 | bloomingdale\n",
      "Processing Record 23 of Set 7 | half moon bay\n",
      "Processing Record 24 of Set 7 | evanston\n",
      "Processing Record 25 of Set 7 | portobelo\n",
      "Processing Record 26 of Set 7 | ostrovnoy\n",
      "Processing Record 27 of Set 7 | gushikawa\n",
      "Processing Record 28 of Set 7 | lavrentiya\n",
      "Processing Record 29 of Set 7 | tombouctou\n",
      "Processing Record 30 of Set 7 | staroaleyskoye\n",
      "Processing Record 31 of Set 7 | north bend\n",
      "Processing Record 32 of Set 7 | lima\n",
      "Processing Record 33 of Set 7 | boueni\n",
      "Processing Record 34 of Set 7 | tromso\n",
      "Processing Record 35 of Set 7 | tsihombe\n",
      "City not found. Skipping...\n",
      "Processing Record 36 of Set 7 | marsabit\n",
      "Processing Record 37 of Set 7 | spencer\n",
      "Processing Record 38 of Set 7 | san quintin\n",
      "Processing Record 39 of Set 7 | airai\n",
      "Processing Record 40 of Set 7 | provideniya\n",
      "Processing Record 41 of Set 7 | ambodifototra\n",
      "City not found. Skipping...\n",
      "Processing Record 42 of Set 7 | toliary\n",
      "City not found. Skipping...\n",
      "Processing Record 43 of Set 7 | da nang\n",
      "Processing Record 44 of Set 7 | ilulissat\n",
      "Processing Record 45 of Set 7 | los algarrobos\n",
      "Processing Record 46 of Set 7 | umzimvubu\n",
      "City not found. Skipping...\n",
      "Processing Record 47 of Set 7 | camocim\n",
      "Processing Record 48 of Set 7 | yerofey pavlovich\n",
      "Processing Record 49 of Set 7 | tomatlan\n",
      "Processing Record 0 of Set 8 | vostok\n",
      "Processing Record 1 of Set 8 | hualmay\n",
      "Processing Record 2 of Set 8 | amderma\n",
      "City not found. Skipping...\n",
      "Processing Record 3 of Set 8 | danville\n",
      "Processing Record 4 of Set 8 | peterhead\n",
      "Processing Record 5 of Set 8 | abong mbang\n",
      "Processing Record 6 of Set 8 | abalak\n",
      "Processing Record 7 of Set 8 | dongsheng\n",
      "Processing Record 8 of Set 8 | ranfurly\n",
      "Processing Record 9 of Set 8 | turukhansk\n",
      "Processing Record 10 of Set 8 | quatre cocos\n",
      "Processing Record 11 of Set 8 | honningsvag\n",
      "Processing Record 12 of Set 8 | uzunovo\n",
      "Processing Record 13 of Set 8 | husavik\n",
      "Processing Record 14 of Set 8 | rawson\n",
      "Processing Record 15 of Set 8 | orchard homes\n",
      "Processing Record 16 of Set 8 | saint-georges\n",
      "Processing Record 17 of Set 8 | esmeraldas\n",
      "Processing Record 18 of Set 8 | emilio carranza\n",
      "Processing Record 19 of Set 8 | sao sebastiao\n",
      "Processing Record 20 of Set 8 | cairo\n",
      "Processing Record 21 of Set 8 | gurskoye\n",
      "City not found. Skipping...\n",
      "Processing Record 22 of Set 8 | kloulklubed\n",
      "Processing Record 23 of Set 8 | nuuk\n",
      "Processing Record 24 of Set 8 | mount gambier\n",
      "Processing Record 25 of Set 8 | jiexiu\n",
      "Processing Record 26 of Set 8 | kahului\n",
      "Processing Record 27 of Set 8 | imbituba\n"
     ]
    },
    {
     "name": "stdout",
     "output_type": "stream",
     "text": [
      "Processing Record 28 of Set 8 | changying\n",
      "Processing Record 29 of Set 8 | meridian\n",
      "Processing Record 30 of Set 8 | dhidhdhoo\n",
      "Processing Record 31 of Set 8 | horsham\n",
      "Processing Record 32 of Set 8 | zhanaozen\n",
      "Processing Record 33 of Set 8 | tadine\n",
      "Processing Record 34 of Set 8 | abu dhabi\n",
      "Processing Record 35 of Set 8 | kendari\n",
      "Processing Record 36 of Set 8 | inuvik\n",
      "Processing Record 37 of Set 8 | verkhoyansk\n",
      "Processing Record 38 of Set 8 | bunia\n",
      "Processing Record 39 of Set 8 | el tigre\n",
      "Processing Record 40 of Set 8 | onalaska\n",
      "Processing Record 41 of Set 8 | cabedelo\n",
      "Processing Record 42 of Set 8 | arawa\n",
      "Processing Record 43 of Set 8 | mangan\n",
      "Processing Record 44 of Set 8 | skelleftea\n",
      "Processing Record 45 of Set 8 | hadejia\n",
      "Processing Record 46 of Set 8 | cairns\n",
      "Processing Record 47 of Set 8 | chistogorskiy\n",
      "Processing Record 48 of Set 8 | oussouye\n",
      "Processing Record 49 of Set 8 | boguchany\n",
      "Processing Record 0 of Set 9 | kushima\n",
      "Processing Record 1 of Set 9 | meyungs\n",
      "City not found. Skipping...\n",
      "Processing Record 2 of Set 9 | broken hill\n",
      "Processing Record 3 of Set 9 | kimberley\n",
      "Processing Record 4 of Set 9 | alofi\n",
      "Processing Record 5 of Set 9 | agaro\n",
      "Processing Record 6 of Set 9 | baboua\n",
      "City not found. Skipping...\n",
      "Processing Record 7 of Set 9 | narsaq\n",
      "Processing Record 8 of Set 9 | batagay-alyta\n",
      "Processing Record 9 of Set 9 | margate\n",
      "Processing Record 10 of Set 9 | sorong\n",
      "Processing Record 11 of Set 9 | ust-nera\n",
      "Processing Record 12 of Set 9 | les cayes\n",
      "Processing Record 13 of Set 9 | leshukonskoye\n",
      "Processing Record 14 of Set 9 | kavaratti\n",
      "Processing Record 15 of Set 9 | prainha\n",
      "Processing Record 16 of Set 9 | mantua\n",
      "Processing Record 17 of Set 9 | murchison\n",
      "Processing Record 18 of Set 9 | svetlaya\n",
      "Processing Record 19 of Set 9 | tautira\n",
      "Processing Record 20 of Set 9 | nantucket\n",
      "Processing Record 21 of Set 9 | kharp\n",
      "Processing Record 22 of Set 9 | marienburg\n",
      "Processing Record 23 of Set 9 | livadiya\n",
      "Processing Record 24 of Set 9 | kawalu\n",
      "Processing Record 25 of Set 9 | kyaukse\n",
      "Processing Record 26 of Set 9 | chernyshevskiy\n",
      "Processing Record 27 of Set 9 | sampit\n",
      "Processing Record 28 of Set 9 | barbar\n",
      "City not found. Skipping...\n",
      "Processing Record 29 of Set 9 | sanary-sur-mer\n",
      "Processing Record 30 of Set 9 | orotukan\n",
      "Processing Record 31 of Set 9 | okha\n",
      "Processing Record 32 of Set 9 | sioux lookout\n",
      "Processing Record 33 of Set 9 | tiarei\n",
      "Processing Record 34 of Set 9 | dali\n",
      "Processing Record 35 of Set 9 | bilibino\n",
      "Processing Record 36 of Set 9 | ondorhaan\n",
      "City not found. Skipping...\n",
      "Processing Record 37 of Set 9 | sumbawa\n",
      "City not found. Skipping...\n",
      "Processing Record 38 of Set 9 | jahrom\n",
      "City not found. Skipping...\n",
      "Processing Record 39 of Set 9 | micheweni\n",
      "Processing Record 40 of Set 9 | copiapo\n",
      "Processing Record 41 of Set 9 | satitoa\n",
      "City not found. Skipping...\n",
      "Processing Record 42 of Set 9 | kamaishi\n",
      "Processing Record 43 of Set 9 | kargasok\n",
      "Processing Record 44 of Set 9 | umm jarr\n",
      "City not found. Skipping...\n",
      "Processing Record 45 of Set 9 | sur\n",
      "Processing Record 46 of Set 9 | naples\n",
      "Processing Record 47 of Set 9 | haapiti\n",
      "Processing Record 48 of Set 9 | evensk\n",
      "Processing Record 49 of Set 9 | kovur\n",
      "Processing Record 0 of Set 10 | odesskoye\n",
      "Processing Record 1 of Set 10 | tecpan\n",
      "Processing Record 2 of Set 10 | the pas\n",
      "Processing Record 3 of Set 10 | mahibadhoo\n",
      "Processing Record 4 of Set 10 | marsa matruh\n",
      "Processing Record 5 of Set 10 | pisco\n",
      "Processing Record 6 of Set 10 | usolye\n",
      "Processing Record 7 of Set 10 | saint george\n",
      "Processing Record 8 of Set 10 | alekseyevka\n",
      "Processing Record 9 of Set 10 | himora\n",
      "City not found. Skipping...\n",
      "Processing Record 10 of Set 10 | namatanai\n",
      "Processing Record 11 of Set 10 | byron bay\n",
      "Processing Record 12 of Set 10 | aykhal\n",
      "Processing Record 13 of Set 10 | doka\n",
      "Processing Record 14 of Set 10 | mount isa\n",
      "Processing Record 15 of Set 10 | betanzos\n",
      "Processing Record 16 of Set 10 | erie\n",
      "Processing Record 17 of Set 10 | morogoro\n",
      "Processing Record 18 of Set 10 | turayf\n",
      "Processing Record 19 of Set 10 | northam\n",
      "Processing Record 20 of Set 10 | baie-saint-paul\n",
      "Processing Record 21 of Set 10 | pousat\n",
      "City not found. Skipping...\n",
      "Processing Record 22 of Set 10 | houma\n",
      "Processing Record 23 of Set 10 | gamba\n",
      "Processing Record 24 of Set 10 | duz\n",
      "City not found. Skipping...\n",
      "Processing Record 25 of Set 10 | karratha\n",
      "Processing Record 26 of Set 10 | kurilsk\n",
      "Processing Record 27 of Set 10 | burica\n",
      "City not found. Skipping...\n",
      "Processing Record 28 of Set 10 | zlatoustovsk\n",
      "City not found. Skipping...\n",
      "Processing Record 29 of Set 10 | sibu\n",
      "Processing Record 30 of Set 10 | kadykchan\n",
      "City not found. Skipping...\n",
      "Processing Record 31 of Set 10 | anaconda\n",
      "Processing Record 32 of Set 10 | matongo\n",
      "Processing Record 33 of Set 10 | tlacotepec\n",
      "Processing Record 34 of Set 10 | puerto escondido\n",
      "Processing Record 35 of Set 10 | boyolangu\n",
      "Processing Record 36 of Set 10 | nivala\n",
      "Processing Record 37 of Set 10 | kibala\n",
      "Processing Record 38 of Set 10 | kennett\n",
      "Processing Record 39 of Set 10 | manitouwadge\n",
      "Processing Record 40 of Set 10 | frankfort\n",
      "Processing Record 41 of Set 10 | sola\n",
      "Processing Record 42 of Set 10 | ilebo\n",
      "Processing Record 43 of Set 10 | matay\n",
      "Processing Record 44 of Set 10 | souillac\n",
      "Processing Record 45 of Set 10 | jumla\n",
      "Processing Record 46 of Set 10 | batemans bay\n",
      "Processing Record 47 of Set 10 | kostomuksha\n",
      "Processing Record 48 of Set 10 | juifang\n",
      "City not found. Skipping...\n",
      "Processing Record 49 of Set 10 | bambous virieux\n",
      "Processing Record 0 of Set 11 | jibuti\n",
      "Processing Record 1 of Set 11 | tumannyy\n",
      "City not found. Skipping...\n",
      "Processing Record 2 of Set 11 | dennery\n",
      "Processing Record 3 of Set 11 | noumea\n",
      "Processing Record 4 of Set 11 | beruwala\n",
      "Processing Record 5 of Set 11 | skoghall\n",
      "Processing Record 6 of Set 11 | porto novo\n",
      "Processing Record 7 of Set 11 | san patricio\n",
      "Processing Record 8 of Set 11 | kemijarvi\n",
      "Processing Record 9 of Set 11 | qui nhon\n",
      "Processing Record 10 of Set 11 | ust-kuyga\n",
      "Processing Record 11 of Set 11 | ouesso\n",
      "Processing Record 12 of Set 11 | tsogni\n",
      "Processing Record 13 of Set 11 | balikpapan\n",
      "Processing Record 14 of Set 11 | fort nelson\n",
      "Processing Record 15 of Set 11 | coos bay\n",
      "Processing Record 16 of Set 11 | bima\n",
      "Processing Record 17 of Set 11 | sambava\n",
      "Processing Record 18 of Set 11 | bermejo\n",
      "Processing Record 19 of Set 11 | poum\n",
      "Processing Record 20 of Set 11 | carlagan\n",
      "Processing Record 21 of Set 11 | pacific grove\n",
      "Processing Record 22 of Set 11 | ternate\n",
      "Processing Record 23 of Set 11 | jardim\n",
      "Processing Record 24 of Set 11 | maragogi\n",
      "Processing Record 25 of Set 11 | palmer\n",
      "Processing Record 26 of Set 11 | port hueneme\n",
      "Processing Record 27 of Set 11 | klaksvik\n",
      "Processing Record 28 of Set 11 | bargal\n",
      "City not found. Skipping...\n",
      "Processing Record 29 of Set 11 | clyde river\n",
      "Processing Record 30 of Set 11 | watsa\n",
      "Processing Record 31 of Set 11 | los llanos de aridane\n",
      "Processing Record 32 of Set 11 | sabha\n",
      "Processing Record 33 of Set 11 | lasa\n",
      "Processing Record 34 of Set 11 | hambantota\n",
      "Processing Record 35 of Set 11 | gat\n",
      "Processing Record 36 of Set 11 | santa vitoria do palmar\n",
      "Processing Record 37 of Set 11 | bardiyah\n",
      "Processing Record 38 of Set 11 | lukovetskiy\n",
      "Processing Record 39 of Set 11 | taltal\n",
      "Processing Record 40 of Set 11 | sibuco\n",
      "Processing Record 41 of Set 11 | mongo\n",
      "Processing Record 42 of Set 11 | seymour\n",
      "Processing Record 43 of Set 11 | axim\n",
      "Processing Record 44 of Set 11 | cleethorpes\n",
      "Processing Record 45 of Set 11 | jiutai\n",
      "Processing Record 46 of Set 11 | lucea\n",
      "Processing Record 47 of Set 11 | valparaiso\n",
      "Processing Record 48 of Set 11 | altamira\n",
      "Processing Record 49 of Set 11 | mezen\n",
      "Processing Record 0 of Set 12 | atar\n",
      "Processing Record 1 of Set 12 | caravelas\n",
      "Processing Record 2 of Set 12 | hovd\n",
      "Processing Record 3 of Set 12 | port lincoln\n",
      "Processing Record 4 of Set 12 | warqla\n",
      "City not found. Skipping...\n",
      "Processing Record 5 of Set 12 | hunza\n",
      "City not found. Skipping...\n",
      "Processing Record 6 of Set 12 | calabozo\n",
      "Processing Record 7 of Set 12 | kaura namoda\n",
      "Processing Record 8 of Set 12 | ewa beach\n",
      "Processing Record 9 of Set 12 | pochinki\n",
      "Processing Record 10 of Set 12 | asind\n",
      "Processing Record 11 of Set 12 | hervey bay\n",
      "Processing Record 12 of Set 12 | palizada\n",
      "Processing Record 13 of Set 12 | rocha\n"
     ]
    },
    {
     "name": "stdout",
     "output_type": "stream",
     "text": [
      "Processing Record 14 of Set 12 | berlevag\n",
      "Processing Record 15 of Set 12 | nyurba\n",
      "Processing Record 16 of Set 12 | lukulu\n",
      "Processing Record 17 of Set 12 | bubaque\n",
      "Processing Record 18 of Set 12 | linjiang\n",
      "Processing Record 19 of Set 12 | mildura\n",
      "Processing Record 20 of Set 12 | maoming\n",
      "Processing Record 21 of Set 12 | kudahuvadhoo\n",
      "Processing Record 22 of Set 12 | porto velho\n",
      "Processing Record 23 of Set 12 | kjopsvik\n",
      "Processing Record 24 of Set 12 | seymchan\n",
      "Processing Record 25 of Set 12 | andenes\n",
      "Processing Record 26 of Set 12 | ati\n",
      "Processing Record 27 of Set 12 | dabat\n",
      "Processing Record 28 of Set 12 | geraldton\n",
      "Processing Record 29 of Set 12 | hamilton\n",
      "Processing Record 30 of Set 12 | monte alto\n",
      "Processing Record 31 of Set 12 | mackay\n",
      "Processing Record 32 of Set 12 | minas de barroteran\n",
      "Processing Record 33 of Set 12 | ravar\n",
      "Processing Record 34 of Set 12 | hihifo\n",
      "City not found. Skipping...\n",
      "Processing Record 35 of Set 12 | dromolaxia\n",
      "Processing Record 36 of Set 12 | yeppoon\n",
      "Processing Record 37 of Set 12 | castellammare del golfo\n",
      "Processing Record 38 of Set 12 | buluang\n",
      "Processing Record 39 of Set 12 | kokologo\n",
      "Processing Record 40 of Set 12 | vila velha\n",
      "Processing Record 41 of Set 12 | belem de sao francisco\n",
      "Processing Record 42 of Set 12 | kisangani\n",
      "Processing Record 43 of Set 12 | great falls\n",
      "Processing Record 44 of Set 12 | belaya gora\n",
      "Processing Record 45 of Set 12 | faya\n",
      "Processing Record 46 of Set 12 | tateyama\n",
      "Processing Record 47 of Set 12 | ahipara\n",
      "Processing Record 48 of Set 12 | severnyy\n",
      "Processing Record 49 of Set 12 | castanos\n",
      "Processing Record 0 of Set 13 | huizhou\n",
      "Processing Record 1 of Set 13 | astana\n",
      "Processing Record 2 of Set 13 | escanaba\n",
      "Processing Record 3 of Set 13 | umm kaddadah\n",
      "Processing Record 4 of Set 13 | vila do maio\n",
      "Processing Record 5 of Set 13 | donghai\n",
      "Processing Record 6 of Set 13 | wahran\n",
      "City not found. Skipping...\n",
      "Processing Record 7 of Set 13 | umm lajj\n",
      "Processing Record 8 of Set 13 | oistins\n",
      "Processing Record 9 of Set 13 | amapa\n",
      "Processing Record 10 of Set 13 | cedar rapids\n",
      "Processing Record 11 of Set 13 | sabang\n",
      "Processing Record 12 of Set 13 | tambopata\n",
      "Processing Record 13 of Set 13 | butterworth\n",
      "Processing Record 14 of Set 13 | morros\n",
      "-----------------------------\n",
      "Data Retrieval Complete      \n",
      "-----------------------------\n"
     ]
    }
   ],
   "source": [
    "# Print to logger\n",
    "print(\"Beginning Data Retrieval     \")\n",
    "print(\"-----------------------------\")\n",
    "\n",
    "# Create counters\n",
    "record_count = 1\n",
    "set_count = 1\n",
    "\n",
    "# Loop through all the cities in our list\n",
    "for i, city in enumerate(cities):\n",
    "        \n",
    "    # Group cities in sets of 50 for logging purposes\n",
    "    if (i % 50 == 0 and i >= 50):\n",
    "        set_count += 1\n",
    "        record_count = 0\n",
    "\n",
    "    # Create endpoint URL with each city\n",
    "    city_url = url + \"&q=\" + city\n",
    "    \n",
    "    # Log the url, record, and set numbers\n",
    "    print(\"Processing Record %s of Set %s | %s\" % (record_count, set_count, city))\n",
    "\n",
    "    # Add 1 to the record count\n",
    "    record_count += 1\n",
    "\n",
    "    # Run an API request for each of the cities\n",
    "    try:\n",
    "        # Parse the JSON and retrieve data\n",
    "        city_weather = requests.get(city_url).json()\n",
    "\n",
    "        # Parse out the max temp, humidity, and cloudiness\n",
    "        city_lat = city_weather[\"coord\"][\"lat\"]\n",
    "        city_lng = city_weather[\"coord\"][\"lon\"]\n",
    "        city_max_temp = city_weather[\"main\"][\"temp_max\"]\n",
    "        city_humidity = city_weather[\"main\"][\"humidity\"]\n",
    "        city_clouds = city_weather[\"clouds\"][\"all\"]\n",
    "        city_wind = city_weather[\"wind\"][\"speed\"]\n",
    "        city_country = city_weather[\"sys\"][\"country\"]\n",
    "        city_date = city_weather[\"dt\"]\n",
    "\n",
    "        # Append the City information into city_data list\n",
    "        city_data.append({\"City\": city, \n",
    "                          \"Lat\": city_lat, \n",
    "                          \"Lng\": city_lng, \n",
    "                          \"Max Temp\": city_max_temp,\n",
    "                          \"Humidity\": city_humidity,\n",
    "                          \"Cloudiness\": city_clouds,\n",
    "                          \"Wind Speed\": city_wind,\n",
    "                          \"Country\": city_country,\n",
    "                          \"Date\": city_date})\n",
    "\n",
    "    # If an error is experienced, skip the city\n",
    "    except:\n",
    "        print(\"City not found. Skipping...\")\n",
    "        pass\n",
    "              \n",
    "# Indicate that Data Loading is complete \n",
    "print(\"-----------------------------\")\n",
    "print(\"Data Retrieval Complete      \")\n",
    "print(\"-----------------------------\")\n",
    "        \n",
    "        "
   ]
  },
  {
   "cell_type": "markdown",
   "metadata": {},
   "source": [
    "### Convert Raw Data to DataFrame\n",
    "* Export the city data into a .csv.\n",
    "* Display the DataFrame"
   ]
  },
  {
   "cell_type": "code",
   "execution_count": 27,
   "metadata": {},
   "outputs": [
    {
     "data": {
      "text/plain": [
       "City          561\n",
       "Lat           561\n",
       "Lng           561\n",
       "Max Temp      561\n",
       "Humidity      561\n",
       "Cloudiness    561\n",
       "Wind Speed    561\n",
       "Country       561\n",
       "Date          561\n",
       "dtype: int64"
      ]
     },
     "execution_count": 27,
     "metadata": {},
     "output_type": "execute_result"
    }
   ],
   "source": [
    "# Convert array of JSONs into Pandas DataFrame\n",
    "city_data_pd = pd.DataFrame(city_data)\n",
    "\n",
    "# Show Record Count\n",
    "city_data_pd.count()"
   ]
  },
  {
   "cell_type": "code",
   "execution_count": 28,
   "metadata": {},
   "outputs": [
    {
     "data": {
      "text/html": [
       "<div>\n",
       "<style scoped>\n",
       "    .dataframe tbody tr th:only-of-type {\n",
       "        vertical-align: middle;\n",
       "    }\n",
       "\n",
       "    .dataframe tbody tr th {\n",
       "        vertical-align: top;\n",
       "    }\n",
       "\n",
       "    .dataframe thead th {\n",
       "        text-align: right;\n",
       "    }\n",
       "</style>\n",
       "<table border=\"1\" class=\"dataframe\">\n",
       "  <thead>\n",
       "    <tr style=\"text-align: right;\">\n",
       "      <th></th>\n",
       "      <th>City</th>\n",
       "      <th>Lat</th>\n",
       "      <th>Lng</th>\n",
       "      <th>Max Temp</th>\n",
       "      <th>Humidity</th>\n",
       "      <th>Cloudiness</th>\n",
       "      <th>Wind Speed</th>\n",
       "      <th>Country</th>\n",
       "      <th>Date</th>\n",
       "    </tr>\n",
       "  </thead>\n",
       "  <tbody>\n",
       "    <tr>\n",
       "      <th>0</th>\n",
       "      <td>busselton</td>\n",
       "      <td>-33.6500</td>\n",
       "      <td>115.3333</td>\n",
       "      <td>62.01</td>\n",
       "      <td>99</td>\n",
       "      <td>87</td>\n",
       "      <td>1.99</td>\n",
       "      <td>AU</td>\n",
       "      <td>1612732132</td>\n",
       "    </tr>\n",
       "    <tr>\n",
       "      <th>1</th>\n",
       "      <td>neuquen</td>\n",
       "      <td>-38.9516</td>\n",
       "      <td>-68.0591</td>\n",
       "      <td>71.60</td>\n",
       "      <td>43</td>\n",
       "      <td>90</td>\n",
       "      <td>8.05</td>\n",
       "      <td>AR</td>\n",
       "      <td>1612731973</td>\n",
       "    </tr>\n",
       "    <tr>\n",
       "      <th>2</th>\n",
       "      <td>katsuura</td>\n",
       "      <td>35.1333</td>\n",
       "      <td>140.3000</td>\n",
       "      <td>42.01</td>\n",
       "      <td>52</td>\n",
       "      <td>40</td>\n",
       "      <td>3.44</td>\n",
       "      <td>JP</td>\n",
       "      <td>1612732132</td>\n",
       "    </tr>\n",
       "    <tr>\n",
       "      <th>3</th>\n",
       "      <td>mzimba</td>\n",
       "      <td>-11.9000</td>\n",
       "      <td>33.6000</td>\n",
       "      <td>65.95</td>\n",
       "      <td>90</td>\n",
       "      <td>100</td>\n",
       "      <td>3.44</td>\n",
       "      <td>MW</td>\n",
       "      <td>1612732132</td>\n",
       "    </tr>\n",
       "    <tr>\n",
       "      <th>4</th>\n",
       "      <td>albany</td>\n",
       "      <td>42.6001</td>\n",
       "      <td>-73.9662</td>\n",
       "      <td>28.99</td>\n",
       "      <td>72</td>\n",
       "      <td>100</td>\n",
       "      <td>1.25</td>\n",
       "      <td>US</td>\n",
       "      <td>1612731974</td>\n",
       "    </tr>\n",
       "  </tbody>\n",
       "</table>\n",
       "</div>"
      ],
      "text/plain": [
       "        City      Lat       Lng  Max Temp  Humidity  Cloudiness  Wind Speed  \\\n",
       "0  busselton -33.6500  115.3333     62.01        99          87        1.99   \n",
       "1    neuquen -38.9516  -68.0591     71.60        43          90        8.05   \n",
       "2   katsuura  35.1333  140.3000     42.01        52          40        3.44   \n",
       "3     mzimba -11.9000   33.6000     65.95        90         100        3.44   \n",
       "4     albany  42.6001  -73.9662     28.99        72         100        1.25   \n",
       "\n",
       "  Country        Date  \n",
       "0      AU  1612732132  \n",
       "1      AR  1612731973  \n",
       "2      JP  1612732132  \n",
       "3      MW  1612732132  \n",
       "4      US  1612731974  "
      ]
     },
     "execution_count": 28,
     "metadata": {},
     "output_type": "execute_result"
    }
   ],
   "source": [
    "# Display the City Data Frame\n",
    "city_data_pd.head()"
   ]
  },
  {
   "cell_type": "code",
   "execution_count": null,
   "metadata": {},
   "outputs": [],
   "source": []
  },
  {
   "cell_type": "markdown",
   "metadata": {},
   "source": [
    "## Inspect the data and remove the cities where the humidity > 100%.\n",
    "----\n",
    "Skip this step if there are no cities that have humidity > 100%. "
   ]
  },
  {
   "cell_type": "code",
   "execution_count": 29,
   "metadata": {},
   "outputs": [
    {
     "data": {
      "text/html": [
       "<div>\n",
       "<style scoped>\n",
       "    .dataframe tbody tr th:only-of-type {\n",
       "        vertical-align: middle;\n",
       "    }\n",
       "\n",
       "    .dataframe tbody tr th {\n",
       "        vertical-align: top;\n",
       "    }\n",
       "\n",
       "    .dataframe thead th {\n",
       "        text-align: right;\n",
       "    }\n",
       "</style>\n",
       "<table border=\"1\" class=\"dataframe\">\n",
       "  <thead>\n",
       "    <tr style=\"text-align: right;\">\n",
       "      <th></th>\n",
       "      <th>Lat</th>\n",
       "      <th>Lng</th>\n",
       "      <th>Max Temp</th>\n",
       "      <th>Humidity</th>\n",
       "      <th>Cloudiness</th>\n",
       "      <th>Wind Speed</th>\n",
       "      <th>Date</th>\n",
       "    </tr>\n",
       "  </thead>\n",
       "  <tbody>\n",
       "    <tr>\n",
       "      <th>count</th>\n",
       "      <td>561.000000</td>\n",
       "      <td>561.000000</td>\n",
       "      <td>561.000000</td>\n",
       "      <td>561.000000</td>\n",
       "      <td>561.000000</td>\n",
       "      <td>561.000000</td>\n",
       "      <td>5.610000e+02</td>\n",
       "    </tr>\n",
       "    <tr>\n",
       "      <th>mean</th>\n",
       "      <td>20.339752</td>\n",
       "      <td>18.873395</td>\n",
       "      <td>48.742139</td>\n",
       "      <td>71.748663</td>\n",
       "      <td>50.379679</td>\n",
       "      <td>8.663209</td>\n",
       "      <td>1.612732e+09</td>\n",
       "    </tr>\n",
       "    <tr>\n",
       "      <th>std</th>\n",
       "      <td>33.580979</td>\n",
       "      <td>92.613263</td>\n",
       "      <td>33.679648</td>\n",
       "      <td>19.766745</td>\n",
       "      <td>39.954039</td>\n",
       "      <td>5.840058</td>\n",
       "      <td>6.834099e+01</td>\n",
       "    </tr>\n",
       "    <tr>\n",
       "      <th>min</th>\n",
       "      <td>-54.800000</td>\n",
       "      <td>-179.166700</td>\n",
       "      <td>-37.320000</td>\n",
       "      <td>7.000000</td>\n",
       "      <td>0.000000</td>\n",
       "      <td>0.020000</td>\n",
       "      <td>1.612732e+09</td>\n",
       "    </tr>\n",
       "    <tr>\n",
       "      <th>25%</th>\n",
       "      <td>-6.644700</td>\n",
       "      <td>-63.903900</td>\n",
       "      <td>25.000000</td>\n",
       "      <td>63.000000</td>\n",
       "      <td>3.000000</td>\n",
       "      <td>4.050000</td>\n",
       "      <td>1.612732e+09</td>\n",
       "    </tr>\n",
       "    <tr>\n",
       "      <th>50%</th>\n",
       "      <td>22.678300</td>\n",
       "      <td>24.731400</td>\n",
       "      <td>62.600000</td>\n",
       "      <td>76.000000</td>\n",
       "      <td>48.000000</td>\n",
       "      <td>7.650000</td>\n",
       "      <td>1.612732e+09</td>\n",
       "    </tr>\n",
       "    <tr>\n",
       "      <th>75%</th>\n",
       "      <td>49.981100</td>\n",
       "      <td>105.324700</td>\n",
       "      <td>76.150000</td>\n",
       "      <td>86.000000</td>\n",
       "      <td>90.000000</td>\n",
       "      <td>12.530000</td>\n",
       "      <td>1.612732e+09</td>\n",
       "    </tr>\n",
       "    <tr>\n",
       "      <th>max</th>\n",
       "      <td>78.218600</td>\n",
       "      <td>178.416700</td>\n",
       "      <td>95.790000</td>\n",
       "      <td>100.000000</td>\n",
       "      <td>100.000000</td>\n",
       "      <td>44.870000</td>\n",
       "      <td>1.612732e+09</td>\n",
       "    </tr>\n",
       "  </tbody>\n",
       "</table>\n",
       "</div>"
      ],
      "text/plain": [
       "              Lat         Lng    Max Temp    Humidity  Cloudiness  Wind Speed  \\\n",
       "count  561.000000  561.000000  561.000000  561.000000  561.000000  561.000000   \n",
       "mean    20.339752   18.873395   48.742139   71.748663   50.379679    8.663209   \n",
       "std     33.580979   92.613263   33.679648   19.766745   39.954039    5.840058   \n",
       "min    -54.800000 -179.166700  -37.320000    7.000000    0.000000    0.020000   \n",
       "25%     -6.644700  -63.903900   25.000000   63.000000    3.000000    4.050000   \n",
       "50%     22.678300   24.731400   62.600000   76.000000   48.000000    7.650000   \n",
       "75%     49.981100  105.324700   76.150000   86.000000   90.000000   12.530000   \n",
       "max     78.218600  178.416700   95.790000  100.000000  100.000000   44.870000   \n",
       "\n",
       "               Date  \n",
       "count  5.610000e+02  \n",
       "mean   1.612732e+09  \n",
       "std    6.834099e+01  \n",
       "min    1.612732e+09  \n",
       "25%    1.612732e+09  \n",
       "50%    1.612732e+09  \n",
       "75%    1.612732e+09  \n",
       "max    1.612732e+09  "
      ]
     },
     "execution_count": 29,
     "metadata": {},
     "output_type": "execute_result"
    }
   ],
   "source": [
    "city_data_pd.describe()"
   ]
  },
  {
   "cell_type": "code",
   "execution_count": 30,
   "metadata": {},
   "outputs": [
    {
     "data": {
      "text/plain": [
       "Int64Index([], dtype='int64')"
      ]
     },
     "execution_count": 30,
     "metadata": {},
     "output_type": "execute_result"
    }
   ],
   "source": [
    "#  Get the indices of cities that have humidity over 100%.\n",
    "dirty_city_data = city_data_pd[(city_data_pd[\"Humidity\"] > 100)].index\n",
    "                                  \n",
    "dirty_city_data\n"
   ]
  },
  {
   "cell_type": "code",
   "execution_count": 31,
   "metadata": {
    "scrolled": true
   },
   "outputs": [
    {
     "data": {
      "text/html": [
       "<div>\n",
       "<style scoped>\n",
       "    .dataframe tbody tr th:only-of-type {\n",
       "        vertical-align: middle;\n",
       "    }\n",
       "\n",
       "    .dataframe tbody tr th {\n",
       "        vertical-align: top;\n",
       "    }\n",
       "\n",
       "    .dataframe thead th {\n",
       "        text-align: right;\n",
       "    }\n",
       "</style>\n",
       "<table border=\"1\" class=\"dataframe\">\n",
       "  <thead>\n",
       "    <tr style=\"text-align: right;\">\n",
       "      <th></th>\n",
       "      <th>City</th>\n",
       "      <th>Lat</th>\n",
       "      <th>Lng</th>\n",
       "      <th>Max Temp</th>\n",
       "      <th>Humidity</th>\n",
       "      <th>Cloudiness</th>\n",
       "      <th>Wind Speed</th>\n",
       "      <th>Country</th>\n",
       "      <th>Date</th>\n",
       "    </tr>\n",
       "  </thead>\n",
       "  <tbody>\n",
       "    <tr>\n",
       "      <th>0</th>\n",
       "      <td>busselton</td>\n",
       "      <td>-33.6500</td>\n",
       "      <td>115.3333</td>\n",
       "      <td>62.01</td>\n",
       "      <td>99</td>\n",
       "      <td>87</td>\n",
       "      <td>1.99</td>\n",
       "      <td>AU</td>\n",
       "      <td>1612732132</td>\n",
       "    </tr>\n",
       "    <tr>\n",
       "      <th>1</th>\n",
       "      <td>neuquen</td>\n",
       "      <td>-38.9516</td>\n",
       "      <td>-68.0591</td>\n",
       "      <td>71.60</td>\n",
       "      <td>43</td>\n",
       "      <td>90</td>\n",
       "      <td>8.05</td>\n",
       "      <td>AR</td>\n",
       "      <td>1612731973</td>\n",
       "    </tr>\n",
       "    <tr>\n",
       "      <th>2</th>\n",
       "      <td>katsuura</td>\n",
       "      <td>35.1333</td>\n",
       "      <td>140.3000</td>\n",
       "      <td>42.01</td>\n",
       "      <td>52</td>\n",
       "      <td>40</td>\n",
       "      <td>3.44</td>\n",
       "      <td>JP</td>\n",
       "      <td>1612732132</td>\n",
       "    </tr>\n",
       "    <tr>\n",
       "      <th>3</th>\n",
       "      <td>mzimba</td>\n",
       "      <td>-11.9000</td>\n",
       "      <td>33.6000</td>\n",
       "      <td>65.95</td>\n",
       "      <td>90</td>\n",
       "      <td>100</td>\n",
       "      <td>3.44</td>\n",
       "      <td>MW</td>\n",
       "      <td>1612732132</td>\n",
       "    </tr>\n",
       "    <tr>\n",
       "      <th>4</th>\n",
       "      <td>albany</td>\n",
       "      <td>42.6001</td>\n",
       "      <td>-73.9662</td>\n",
       "      <td>28.99</td>\n",
       "      <td>72</td>\n",
       "      <td>100</td>\n",
       "      <td>1.25</td>\n",
       "      <td>US</td>\n",
       "      <td>1612731974</td>\n",
       "    </tr>\n",
       "  </tbody>\n",
       "</table>\n",
       "</div>"
      ],
      "text/plain": [
       "        City      Lat       Lng  Max Temp  Humidity  Cloudiness  Wind Speed  \\\n",
       "0  busselton -33.6500  115.3333     62.01        99          87        1.99   \n",
       "1    neuquen -38.9516  -68.0591     71.60        43          90        8.05   \n",
       "2   katsuura  35.1333  140.3000     42.01        52          40        3.44   \n",
       "3     mzimba -11.9000   33.6000     65.95        90         100        3.44   \n",
       "4     albany  42.6001  -73.9662     28.99        72         100        1.25   \n",
       "\n",
       "  Country        Date  \n",
       "0      AU  1612732132  \n",
       "1      AR  1612731973  \n",
       "2      JP  1612732132  \n",
       "3      MW  1612732132  \n",
       "4      US  1612731974  "
      ]
     },
     "execution_count": 31,
     "metadata": {},
     "output_type": "execute_result"
    }
   ],
   "source": [
    "# Make a new DataFrame equal to the city data to drop all humidity outliers by index.\n",
    "# Passing \"inplace=False\" will make a copy of the city_data DataFrame, which we call \"clean_city_data\".\n",
    "clean_city_data = city_data_pd.drop(dirty_city_data, inplace=False)\n",
    "clean_city_data.head()"
   ]
  },
  {
   "cell_type": "code",
   "execution_count": 33,
   "metadata": {},
   "outputs": [],
   "source": [
    "# # Extract relevant fields from the data frame\n",
    "# lats = clean_city_data[\"Lat\"]\n",
    "# max_temps = clean_city_data[\"Max Temp\"]\n",
    "# humidity = clean_city_data[\"Humidity\"]\n",
    "# cloudiness = clean_city_data[\"Cloudiness\"]\n",
    "# wind_speed = clean_city_data[\"Wind Speed\"]\n",
    "\n",
    "# # Export the City_Data into a csv\n",
    "# clean_city_data.to_csv(output_data_file, index_label=\"City_ID\")\n"
   ]
  },
  {
   "cell_type": "markdown",
   "metadata": {},
   "source": [
    "## Plotting the Data\n",
    "* Use proper labeling of the plots using plot titles (including date of analysis) and axes labels.\n",
    "* Save the plotted figures as .pngs."
   ]
  },
  {
   "cell_type": "markdown",
   "metadata": {},
   "source": [
    "## Latitude vs. Temperature Plot"
   ]
  },
  {
   "cell_type": "code",
   "execution_count": 35,
   "metadata": {
    "scrolled": true
   },
   "outputs": [
    {
     "data": {
      "text/plain": [
       "<matplotlib.collections.PathCollection at 0x7fc3aae31c10>"
      ]
     },
     "execution_count": 35,
     "metadata": {},
     "output_type": "execute_result"
    },
    {
     "data": {
      "image/png": "[encoded data removed]",
      "text/plain": [
       "<Figure size 432x288 with 1 Axes>"
      ]
     },
     "metadata": {
      "needs_background": "light"
     },
     "output_type": "display_data"
    }
   ],
   "source": [
    "# Build scatter plot for latitude vs. temperature\n",
    "plt.scatter(lats, \n",
    "            max_temps,\n",
    "            edgecolor=\"black\", linewidths=1, marker=\"o\", \n",
    "            alpha=0.8, label=\"Cities\")"
   ]
  },
  {
   "cell_type": "markdown",
   "metadata": {},
   "source": [
    "## Latitude vs. Humidity Plot"
   ]
  },
  {
   "cell_type": "code",
   "execution_count": 36,
   "metadata": {},
   "outputs": [
    {
     "data": {
      "text/plain": [
       "<matplotlib.collections.PathCollection at 0x7fc3aaf5cb50>"
      ]
     },
     "execution_count": 36,
     "metadata": {},
     "output_type": "execute_result"
    },
    {
     "data": {
      "image/png": "[encoded data removed]",
      "text/plain": [
       "<Figure size 432x288 with 1 Axes>"
      ]
     },
     "metadata": {
      "needs_background": "light"
     },
     "output_type": "display_data"
    }
   ],
   "source": [
    "# Build the scatter plots for latitude vs. humidity\n",
    "plt.scatter(lats, \n",
    "            humidity,\n",
    "            edgecolor=\"black\", linewidths=1, marker=\"o\", \n",
    "            alpha=0.8, label=\"Cities\")\n"
   ]
  },
  {
   "cell_type": "markdown",
   "metadata": {},
   "source": [
    "## Latitude vs. Cloudiness Plot"
   ]
  },
  {
   "cell_type": "code",
   "execution_count": 37,
   "metadata": {},
   "outputs": [
    {
     "data": {
      "text/plain": [
       "<matplotlib.collections.PathCollection at 0x7fc3aaf8d190>"
      ]
     },
     "execution_count": 37,
     "metadata": {},
     "output_type": "execute_result"
    },
    {
     "data": {
      "image/png": "[encoded data removed]",
      "text/plain": [
       "<Figure size 432x288 with 1 Axes>"
      ]
     },
     "metadata": {
      "needs_background": "light"
     },
     "output_type": "display_data"
    }
   ],
   "source": [
    "# Build the scatter plots for latitude vs. cloudiness\n",
    "plt.scatter(lats, \n",
    "            cloudiness,\n",
    "            edgecolor=\"black\", linewidths=1, marker=\"o\", \n",
    "            alpha=0.8, label=\"Cities\")\n"
   ]
  },
  {
   "cell_type": "markdown",
   "metadata": {},
   "source": [
    "## Latitude vs. Wind Speed Plot"
   ]
  },
  {
   "cell_type": "code",
   "execution_count": 38,
   "metadata": {},
   "outputs": [
    {
     "data": {
      "text/plain": [
       "<matplotlib.collections.PathCollection at 0x7fc3ab0b0fd0>"
      ]
     },
     "execution_count": 38,
     "metadata": {},
     "output_type": "execute_result"
    },
    {
     "data": {
      "image/png": "[encoded data removed]",
      "text/plain": [
       "<Figure size 432x288 with 1 Axes>"
      ]
     },
     "metadata": {
      "needs_background": "light"
     },
     "output_type": "display_data"
    }
   ],
   "source": [
    "# Build the scatter plots for latitude vs. wind speed\n",
    "plt.scatter(lats, \n",
    "            wind_speed,\n",
    "            edgecolor=\"black\", linewidths=1, marker=\"o\", \n",
    "            alpha=0.8, label=\"Cities\")"
   ]
  },
  {
   "cell_type": "markdown",
   "metadata": {},
   "source": [
    "## Linear Regression"
   ]
  },
  {
   "cell_type": "code",
   "execution_count": 41,
   "metadata": {},
   "outputs": [],
   "source": [
    "# Create a function to create Linear Regression plots\n",
    "def plot_linear_regression(x_values, y_values, title, text_coordinates):\n",
    "    \n",
    "    # Run regresson on southern hemisphere\n",
    "    (slope, intercept, rvalue, pvalue, stderr) = linregress(x_values, y_values)\n",
    "    regress_values = x_values * slope + intercept\n",
    "    line_eq = \"y = \" + str(round(slope,2)) + \"x + \" + str(round(intercept,2))\n",
    "    \n",
    "        # Plot\n",
    "    plt.scatter(x_values,y_values)\n",
    "    plt.plot(x_values,regress_values,\"r-\")\n",
    "    plt.annotate(line_eq,text_coordinates,fontsize=15,color=\"red\")\n",
    "    plt.xlabel('Latitude')\n",
    "    plt.ylabel(title)\n",
    "    print(f\"The r-value is: {rvalue**2}\")\n",
    "    plt.show()"
   ]
  },
  {
   "cell_type": "code",
   "execution_count": 42,
   "metadata": {},
   "outputs": [],
   "source": [
    "# Create Northern and Southern Hemisphere DataFrames\n",
    "northern_hemi_df = city_data_pd.loc[(city_data_pd[\"Lat\"] >= 0)]\n",
    "southern_hemi_df = city_data_pd.loc[(city_data_pd[\"Lat\"] < 0)]"
   ]
  },
  {
   "cell_type": "markdown",
   "metadata": {},
   "source": [
    "####  Northern Hemisphere - Max Temp vs. Latitude Linear Regression"
   ]
  },
  {
   "cell_type": "code",
   "execution_count": 43,
   "metadata": {},
   "outputs": [
    {
     "name": "stdout",
     "output_type": "stream",
     "text": [
      "The r-value is: 0.7472491614006757\n"
     ]
    },
    {
     "data": {
      "image/png": "[encoded data removed]",
      "text/plain": [
       "<Figure size 432x288 with 1 Axes>"
      ]
     },
     "metadata": {
      "needs_background": "light"
     },
     "output_type": "display_data"
    }
   ],
   "source": [
    "# Linear regression on Northern Hemisphere\n",
    "x_values = northern_hemi_df[\"Lat\"]\n",
    "y_values = northern_hemi_df[\"Max Temp\"]\n",
    "plot_linear_regression(x_values, y_values, 'Max Temp',(6,30))"
   ]
  },
  {
   "cell_type": "markdown",
   "metadata": {},
   "source": [
    "####  Southern Hemisphere - Max Temp vs. Latitude Linear Regression"
   ]
  },
  {
   "cell_type": "code",
   "execution_count": 44,
   "metadata": {},
   "outputs": [
    {
     "name": "stdout",
     "output_type": "stream",
     "text": [
      "The r-value is: 0.33898920440761454\n"
     ]
    },
    {
     "data": {
      "image/png": "[encoded data removed]",
      "text/plain": [
       "<Figure size 432x288 with 1 Axes>"
      ]
     },
     "metadata": {
      "needs_background": "light"
     },
     "output_type": "display_data"
    }
   ],
   "source": [
    "# Linear regression on Southern Hemisphere\n",
    "x_values = southern_hemi_df[\"Lat\"]\n",
    "y_values = southern_hemi_df[\"Max Temp\"]\n",
    "plot_linear_regression(x_values, y_values, 'Max Temp', (-55, 90))"
   ]
  },
  {
   "cell_type": "markdown",
   "metadata": {},
   "source": [
    "Strong positive correlation."
   ]
  },
  {
   "cell_type": "markdown",
   "metadata": {},
   "source": [
    "####  Northern Hemisphere - Humidity (%) vs. Latitude Linear Regression"
   ]
  },
  {
   "cell_type": "code",
   "execution_count": 45,
   "metadata": {},
   "outputs": [
    {
     "name": "stdout",
     "output_type": "stream",
     "text": [
      "The r-value is: 0.093374447623033\n"
     ]
    },
    {
     "data": {
      "image/png": "[encoded data removed]",
      "text/plain": [
       "<Figure size 432x288 with 1 Axes>"
      ]
     },
     "metadata": {
      "needs_background": "light"
     },
     "output_type": "display_data"
    }
   ],
   "source": [
    "# Northern Hemisphere\n",
    "x_values = northern_hemi_df[\"Lat\"]\n",
    "y_values = northern_hemi_df[\"Humidity\"]\n",
    "plot_linear_regression(x_values, y_values, 'Humidity',(40,10))"
   ]
  },
  {
   "cell_type": "markdown",
   "metadata": {},
   "source": [
    "####  Southern Hemisphere - Humidity (%) vs. Latitude Linear Regression"
   ]
  },
  {
   "cell_type": "code",
   "execution_count": 46,
   "metadata": {},
   "outputs": [
    {
     "name": "stdout",
     "output_type": "stream",
     "text": [
      "The r-value is: 0.136399462471531\n"
     ]
    },
    {
     "data": {
      "image/png": "[encoded data removed]",
      "text/plain": [
       "<Figure size 432x288 with 1 Axes>"
      ]
     },
     "metadata": {
      "needs_background": "light"
     },
     "output_type": "display_data"
    }
   ],
   "source": [
    "# Southern Hemisphere\n",
    "x_values = southern_hemi_df[\"Lat\"]\n",
    "y_values = southern_hemi_df[\"Humidity\"]\n",
    "plot_linear_regression(x_values, y_values, 'Humidity', (-50, 20))"
   ]
  },
  {
   "cell_type": "markdown",
   "metadata": {},
   "source": [
    "####  Northern Hemisphere - Cloudiness (%) vs. Latitude Linear Regression"
   ]
  },
  {
   "cell_type": "code",
   "execution_count": 29,
   "metadata": {},
   "outputs": [
    {
     "name": "stdout",
     "output_type": "stream",
     "text": [
      "The r-value is: 0.0020898727664228514\n"
     ]
    },
    {
     "data": {
      "image/png": "[encoded data removed]",
      "text/plain": [
       "<Figure size 432x288 with 1 Axes>"
      ]
     },
     "metadata": {
      "needs_background": "light"
     },
     "output_type": "display_data"
    }
   ],
   "source": [
    "# Northern Hemisphere\n",
    "x_values = northern_hemi_df[\"Lat\"]\n",
    "y_values = northern_hemi_df[\"Cloudiness\"]\n",
    "plot_linear_regression(x_values, y_values, 'Cloudiness', (40,10))"
   ]
  },
  {
   "cell_type": "markdown",
   "metadata": {},
   "source": [
    "No real relationshop between humidity and latitude."
   ]
  },
  {
   "cell_type": "markdown",
   "metadata": {},
   "source": [
    "####  Southern Hemisphere - Cloudiness (%) vs. Latitude Linear Regression"
   ]
  },
  {
   "cell_type": "code",
   "execution_count": 50,
   "metadata": {},
   "outputs": [
    {
     "name": "stdout",
     "output_type": "stream",
     "text": [
      "The r-value is: 0.06907175524372297\n"
     ]
    },
    {
     "data": {
      "image/png": "[encoded data removed]",
      "text/plain": [
       "<Figure size 432x288 with 1 Axes>"
      ]
     },
     "metadata": {
      "needs_background": "light"
     },
     "output_type": "display_data"
    }
   ],
   "source": [
    "# Southern Hemisphere\n",
    "x_values = southern_hemi_df[\"Lat\"]\n",
    "y_values = southern_hemi_df[\"Cloudiness\"]\n",
    "plot_linear_regression(x_values, y_values, 'Cloudiness', (-30,30))"
   ]
  },
  {
   "cell_type": "markdown",
   "metadata": {},
   "source": [
    "####  Northern Hemisphere - Wind Speed (mph) vs. Latitude Linear Regression"
   ]
  },
  {
   "cell_type": "code",
   "execution_count": 51,
   "metadata": {},
   "outputs": [
    {
     "name": "stdout",
     "output_type": "stream",
     "text": [
      "The r-value is: 0.02479012828135564\n"
     ]
    },
    {
     "data": {
      "image/png": "[encoded data removed]",
      "text/plain": [
       "<Figure size 432x288 with 1 Axes>"
      ]
     },
     "metadata": {
      "needs_background": "light"
     },
     "output_type": "display_data"
    }
   ],
   "source": [
    "# Northern Hemisphere\n",
    "x_values = northern_hemi_df[\"Lat\"]\n",
    "y_values = northern_hemi_df[\"Wind Speed\"]\n",
    "plot_linear_regression(x_values, y_values, 'Wind Speed', (40,25))"
   ]
  },
  {
   "cell_type": "markdown",
   "metadata": {},
   "source": [
    "####  Southern Hemisphere - Wind Speed (mph) vs. Latitude Linear Regression"
   ]
  },
  {
   "cell_type": "code",
   "execution_count": 52,
   "metadata": {},
   "outputs": [
    {
     "name": "stdout",
     "output_type": "stream",
     "text": [
      "The r-value is: 0.03540510425530176\n"
     ]
    },
    {
     "data": {
      "image/png": "[encoded data removed]",
      "text/plain": [
       "<Figure size 432x288 with 1 Axes>"
      ]
     },
     "metadata": {
      "needs_background": "light"
     },
     "output_type": "display_data"
    }
   ],
   "source": [
    "# Southern Hemisphere\n",
    "x_values = southern_hemi_df[\"Lat\"]\n",
    "y_values = southern_hemi_df[\"Wind Speed\"]\n",
    "plot_linear_regression(x_values, y_values, 'Wind Speed', (-50, 20))"
   ]
  },
  {
   "cell_type": "code",
   "execution_count": null,
   "metadata": {},
   "outputs": [],
   "source": []
  }
 ],
 "metadata": {
  "anaconda-cloud": {},
  "kernel_info": {
   "name": "python3"
  },
  "kernelspec": {
   "display_name": "Python 3",
   "language": "python",
   "name": "python3"
  },
  "language_info": {
   "codemirror_mode": {
    "name": "ipython",
    "version": 3
   },
   "file_extension": ".py",
   "mimetype": "text/x-python",
   "name": "python",
   "nbconvert_exporter": "python",
   "pygments_lexer": "ipython3",
   "version": "3.7.9"
  },
  "latex_envs": {
   "LaTeX_envs_menu_present": true,
   "autoclose": false,
   "autocomplete": true,
   "bibliofile": "biblio.bib",
   "cite_by": "apalike",
   "current_citInitial": 1,
   "eqLabelWithNumbers": true,
   "eqNumInitial": 1,
   "hotkeys": {
    "equation": "Ctrl-E",
    "itemize": "Ctrl-I"
   },
   "labels_anchors": false,
   "latex_user_defs": false,
   "report_style_numbering": false,
   "user_envs_cfg": false
  },
  "nteract": {
   "version": "0.12.3"
  }
 },
 "nbformat": 4,
 "nbformat_minor": 2
}
